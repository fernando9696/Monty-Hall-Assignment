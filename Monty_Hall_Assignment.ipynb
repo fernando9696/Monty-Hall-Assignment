{
 "cells": [
  {
   "attachments": {},
   "cell_type": "markdown",
   "metadata": {},
   "source": [
    "# Monty Hall Problem\n",
    "##### This program runs the monty hall problem and will visualize the results"
   ]
  },
  {
   "cell_type": "code",
   "execution_count": 3,
   "metadata": {},
   "outputs": [],
   "source": [
    "import numpy as np\n",
    "import pandas as pd\n",
    "import random\n",
    "import matplotlib.pyplot as plt\n"
   ]
  },
  {
   "cell_type": "code",
   "execution_count": null,
   "metadata": {},
   "outputs": [],
   "source": [
    "\n",
    "def Monty_Hall_Game(switch , num_tests):\n",
    "    # results from the game\n",
    "    win_with_switch = 0\n",
    "    win_without_switch = 0\n",
    "    lose_with_switch = 0\n",
    "    lose_without_switch = 0\n",
    "\n",
    "    doors = ['A', 'B', 'C'] # Create doors\n",
    "    num_doors = len(doors) # number of doors\n",
    "\n",
    "\n",
    "    for i in range (0, num_tests):\n",
    "        # assign a door with a prize\n",
    "        w_door = random.randint(0, num_doors-1)\n",
    "\n",
    "        chosen_door = "
   ]
  }
 ],
 "metadata": {
  "kernelspec": {
   "display_name": "base",
   "language": "python",
   "name": "python3"
  },
  "language_info": {
   "codemirror_mode": {
    "name": "ipython",
    "version": 3
   },
   "file_extension": ".py",
   "mimetype": "text/x-python",
   "name": "python",
   "nbconvert_exporter": "python",
   "pygments_lexer": "ipython3",
   "version": "3.9.12"
  },
  "orig_nbformat": 4,
  "vscode": {
   "interpreter": {
    "hash": "935b86137498be05b346ff0b5fa313ead54ebf7ec72c831afdb061ae04af6320"
   }
  }
 },
 "nbformat": 4,
 "nbformat_minor": 2
}
